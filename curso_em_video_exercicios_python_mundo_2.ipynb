{
 "cells": [
  {
   "cell_type": "markdown",
   "id": "8a67dd9a",
   "metadata": {},
   "source": [
    "# Curso em Vídeo - Exercícios de Python 3 - Mundo 2"
   ]
  },
  {
   "cell_type": "markdown",
   "id": "99c1cfe1",
   "metadata": {},
   "source": [
    "### Exercício 036: Escreva um programa para aprovar o empréstimo bancário para a compra de uma casa. Pergunte o valor da casa, o salário do comprador e em quantos anos ele vai pagar. A prestação mensal não pode exceder 30% do salário ou então o empréstimo será negado."
   ]
  },
  {
   "cell_type": "code",
   "execution_count": null,
   "id": "e2c16a62",
   "metadata": {
    "collapsed": false
   },
   "outputs": [],
   "source": []
  },
  {
   "cell_type": "markdown",
   "id": "e3519f54",
   "metadata": {},
   "source": [
    "### Exercício 037: Escreva um programa em que leia um número inteiro qualquer e peça para o usuário escolher qual será a base de conversão: 1 para binário, 2 para octal e 3 para hexadecimal."
   ]
  },
  {
   "cell_type": "code",
   "execution_count": null,
   "id": "8ad04370",
   "metadata": {
    "collapsed": false
   },
   "outputs": [],
   "source": []
  },
  {
   "cell_type": "markdown",
   "id": "3085afaf",
   "metadata": {},
   "source": [
    "### Exercício 038: Escreva um programa que leia dois números inteiros e compare-os. mostrando na tela uma mensagem:"
   ]
  },
  {
   "cell_type": "code",
   "execution_count": null,
   "id": "5c322620",
   "metadata": {
    "collapsed": false
   },
   "outputs": [],
   "source": []
  },
  {
   "cell_type": "markdown",
   "id": "5af83d12",
   "metadata": {},
   "source": [
    "### Exercício 039: Faça um programa que leia o ano de nascimento de um jovem e informe, de acordo com a sua idade, se ele ainda vai se alistar ao serviço militar, se é a hora exata de se alistar ou se já passou do tempo do alistamento. Seu programa também deverá mostrar o tempo que falta ou que passou do prazo."
   ]
  },
  {
   "cell_type": "code",
   "execution_count": null,
   "id": "7ac7f26f",
   "metadata": {
    "collapsed": false
   },
   "outputs": [],
   "source": []
  },
  {
   "cell_type": "markdown",
   "id": "73a98f76",
   "metadata": {},
   "source": [
    "### Exercício 040: Crie um programa que leia duas notas de um aluno e calcule sua média, mostrando uma mensagem no final, de acordo com a média atingida:"
   ]
  },
  {
   "cell_type": "code",
   "execution_count": null,
   "id": "919879d4",
   "metadata": {
    "collapsed": false
   },
   "outputs": [],
   "source": []
  },
  {
   "cell_type": "markdown",
   "id": "1d2f5391",
   "metadata": {},
   "source": [
    "### Exercício 041: A Confederação Nacional de Natação precisa de um programa que leia o ano de nascimento de um atleta e mostre sua categoria, de acordo com a idade:"
   ]
  },
  {
   "cell_type": "code",
   "execution_count": null,
   "id": "64796ebb",
   "metadata": {
    "collapsed": false
   },
   "outputs": [],
   "source": []
  },
  {
   "cell_type": "markdown",
   "id": "57f06a44",
   "metadata": {},
   "source": [
    "### Exercício 042: Refaça o DESAFIO 035 dos triângulos, acrescentando o recurso de mostrar que tipo de triângulo será formado:"
   ]
  },
  {
   "cell_type": "code",
   "execution_count": null,
   "id": "25099d1d",
   "metadata": {
    "collapsed": false
   },
   "outputs": [],
   "source": []
  },
  {
   "cell_type": "markdown",
   "id": "eac4d6b1",
   "metadata": {},
   "source": [
    "### Exercício 043: Desenvolva uma lógica que leia o peso e a altura de uma pessoa, calcule seu Índice de Massa Corporal (IMC) e mostre seu status, de acordo com a tabela abaixo:"
   ]
  },
  {
   "cell_type": "code",
   "execution_count": null,
   "id": "f66771ef",
   "metadata": {
    "collapsed": false
   },
   "outputs": [],
   "source": []
  },
  {
   "cell_type": "markdown",
   "id": "680ddac3",
   "metadata": {},
   "source": [
    "### Exercício 044: Elabore um programa que calcule o valor a ser pago por um produto, considerando o seu preço normal e condição de pagamento:"
   ]
  },
  {
   "cell_type": "code",
   "execution_count": null,
   "id": "63ae4eec",
   "metadata": {
    "collapsed": false
   },
   "outputs": [],
   "source": []
  },
  {
   "cell_type": "markdown",
   "id": "b2efc614",
   "metadata": {},
   "source": [
    "### Exercício 045: Crie um programa que faça o computador jogar Jokenpô com você."
   ]
  },
  {
   "cell_type": "code",
   "execution_count": null,
   "id": "d704c603",
   "metadata": {
    "collapsed": false
   },
   "outputs": [],
   "source": []
  },
  {
   "cell_type": "markdown",
   "id": "cace8db5",
   "metadata": {},
   "source": [
    "### Exercício 046: Faça um programa que mostre na tela uma contagem regressiva para o estouro de fogos de artifício, indo de 10 até 0, com uma pausa de 1 segundo entre eles."
   ]
  },
  {
   "cell_type": "code",
   "execution_count": null,
   "id": "8706dc64",
   "metadata": {
    "collapsed": false
   },
   "outputs": [],
   "source": []
  },
  {
   "cell_type": "markdown",
   "id": "51bb2750",
   "metadata": {},
   "source": [
    "### Exercício 047: Crie um programa que mostre na tela todos os números pares que estão no intervalo entre 1 e 50."
   ]
  },
  {
   "cell_type": "code",
   "execution_count": null,
   "id": "4a0a66af",
   "metadata": {
    "collapsed": false
   },
   "outputs": [],
   "source": []
  },
  {
   "cell_type": "markdown",
   "id": "071e3412",
   "metadata": {},
   "source": [
    "### Exercício 048: Faça um programa que calcule a soma entre todos os números que são múltiplos de três e que se encontram no intervalo de 1 até 500."
   ]
  },
  {
   "cell_type": "code",
   "execution_count": null,
   "id": "a6baeca6",
   "metadata": {
    "collapsed": false
   },
   "outputs": [],
   "source": []
  },
  {
   "cell_type": "markdown",
   "id": "5a29d76a",
   "metadata": {},
   "source": [
    "### Exercício 049: Refaça o DESAFIO 009, mostrando a tabuada de um número que o usuário escolher, só que agora utilizando um laço for."
   ]
  },
  {
   "cell_type": "code",
   "execution_count": null,
   "id": "33f50cb7",
   "metadata": {
    "collapsed": false
   },
   "outputs": [],
   "source": []
  },
  {
   "cell_type": "markdown",
   "id": "dafe0076",
   "metadata": {},
   "source": [
    "### Exercício 050: Desenvolva um programa que leia seis números inteiros e mostre a soma apenas daqueles que forem pares. Se o valor digitado for ímpar, desconsidere-o."
   ]
  },
  {
   "cell_type": "code",
   "execution_count": null,
   "id": "3d02c884",
   "metadata": {
    "collapsed": false
   },
   "outputs": [],
   "source": []
  },
  {
   "cell_type": "markdown",
   "id": "a62bc827",
   "metadata": {},
   "source": [
    "### Exercício 051: Desenvolva um programa que leia o primeiro termo e a razão de uma PA. No final, mostre os 10 primeiros termos dessa progressão."
   ]
  },
  {
   "cell_type": "code",
   "execution_count": null,
   "id": "4e7544e8",
   "metadata": {
    "collapsed": false
   },
   "outputs": [],
   "source": []
  },
  {
   "cell_type": "markdown",
   "id": "960e8753",
   "metadata": {},
   "source": [
    "### Exercício 052: Faça um programa que leia um número inteiro e diga se ele é ou não um número primo."
   ]
  },
  {
   "cell_type": "code",
   "execution_count": null,
   "id": "a8fb38c0",
   "metadata": {
    "collapsed": false
   },
   "outputs": [],
   "source": []
  },
  {
   "cell_type": "markdown",
   "id": "19beddc7",
   "metadata": {},
   "source": [
    "### Exercício 053: Crie um programa que leia uma frase qualquer e diga se ela é um palíndromo, desconsiderando os espaços."
   ]
  },
  {
   "cell_type": "code",
   "execution_count": null,
   "id": "1b5c9ac5",
   "metadata": {
    "collapsed": false
   },
   "outputs": [],
   "source": []
  },
  {
   "cell_type": "markdown",
   "id": "f5bebb1f",
   "metadata": {},
   "source": [
    "### Exercício 054: Crie um programa que leia o ano de nascimento de sete pessoas. No final, mostre quantas pessoas ainda não atingiram a maioridade e quantas já são maiores."
   ]
  },
  {
   "cell_type": "code",
   "execution_count": null,
   "id": "a584e54f",
   "metadata": {
    "collapsed": false
   },
   "outputs": [],
   "source": []
  },
  {
   "cell_type": "markdown",
   "id": "0072680b",
   "metadata": {},
   "source": [
    "### Exercício 055: Faça um programa que leia o peso de cinco pessoas. No final, mostre qual foi o maior e o menor peso lidos."
   ]
  },
  {
   "cell_type": "code",
   "execution_count": null,
   "id": "428560b1",
   "metadata": {
    "collapsed": false
   },
   "outputs": [],
   "source": []
  },
  {
   "cell_type": "markdown",
   "id": "11255522",
   "metadata": {},
   "source": [
    "### Exercício 056: Desenvolva um programa que leia o nome, idade e sexo de 4 pessoas. No final do programa, mostre: a média de idade do grupo, qual é o nome do homem mais velho e quantas mulheres têm menos de 20 anos."
   ]
  },
  {
   "cell_type": "code",
   "execution_count": null,
   "id": "433b1e88",
   "metadata": {
    "collapsed": false
   },
   "outputs": [],
   "source": []
  },
  {
   "cell_type": "markdown",
   "id": "f7a80b3f",
   "metadata": {},
   "source": [
    "### Exercício 057: Faça um programa que leia o sexo de uma pessoa, mas só aceite os valores 'M' ou 'F'. Caso esteja errado, peça a digitação novamente até ter um valor correto."
   ]
  },
  {
   "cell_type": "code",
   "execution_count": null,
   "id": "d96f8c00",
   "metadata": {
    "collapsed": false
   },
   "outputs": [],
   "source": []
  },
  {
   "cell_type": "markdown",
   "id": "6163305e",
   "metadata": {},
   "source": [
    "### Exercício 058: Melhore o jogo do DESAFIO 028 onde o computador vai \"pensar\" em um número entre 0 e 10. Só que agora o jogador vai tentar adivinhar até acertar, mostrando no final quantos palpites foram necessários para vencer."
   ]
  },
  {
   "cell_type": "code",
   "execution_count": null,
   "id": "02263a5b",
   "metadata": {
    "collapsed": false
   },
   "outputs": [],
   "source": []
  },
  {
   "cell_type": "markdown",
   "id": "38be889b",
   "metadata": {},
   "source": [
    "### Exercício 059: Crie um programa que leia dois valores e mostre um menu na tela:"
   ]
  },
  {
   "cell_type": "code",
   "execution_count": null,
   "id": "d69a26f8",
   "metadata": {
    "collapsed": false
   },
   "outputs": [],
   "source": []
  },
  {
   "cell_type": "markdown",
   "id": "53faef41",
   "metadata": {},
   "source": [
    "### Exercício 060: Faça um programa que leia um número qualquer e mostre o seu fatorial."
   ]
  },
  {
   "cell_type": "code",
   "execution_count": null,
   "id": "fb74fa2e",
   "metadata": {
    "collapsed": false
   },
   "outputs": [],
   "source": []
  },
  {
   "cell_type": "markdown",
   "id": "26101690",
   "metadata": {},
   "source": [
    "### Exercício 061: Refaça o DESAFIO 051, lendo o primeiro termo e a razão de uma PA, mostrando os 10 primeiros termos da progressão usando a estrutura while."
   ]
  },
  {
   "cell_type": "code",
   "execution_count": null,
   "id": "3010e535",
   "metadata": {
    "collapsed": false
   },
   "outputs": [],
   "source": []
  },
  {
   "cell_type": "markdown",
   "id": "5a3864af",
   "metadata": {},
   "source": [
    "### Exercício 062: Melhore o DESAFIO 061, perguntando para o usuário se ele quer mostrar mais alguns termos. O programa encerrará quando ele disser que quer mostrar 0 termos."
   ]
  },
  {
   "cell_type": "code",
   "execution_count": null,
   "id": "31addf27",
   "metadata": {
    "collapsed": false
   },
   "outputs": [],
   "source": []
  },
  {
   "cell_type": "markdown",
   "id": "c9714d74",
   "metadata": {},
   "source": [
    "### Exercício 063: Escreva um programa que leia um número N inteiro qualquer e mostre na tela os N primeiros elementos de uma Sequência de Fibonacci. "
   ]
  },
  {
   "cell_type": "code",
   "execution_count": null,
   "id": "f870d4aa",
   "metadata": {
    "collapsed": false
   },
   "outputs": [],
   "source": []
  },
  {
   "cell_type": "markdown",
   "id": "5534b2c8",
   "metadata": {},
   "source": [
    "### Exercício 064: Crie um programa que leia vários números inteiros pelo teclado. O programa só vai parar quando o usuário digitar o valor 999, que é a condição de parada. No final, mostre quantos números foram digitados e qual foi a soma entre eles (desconsiderando o flag)."
   ]
  },
  {
   "cell_type": "code",
   "execution_count": null,
   "id": "c91618b6",
   "metadata": {
    "collapsed": false
   },
   "outputs": [],
   "source": []
  },
  {
   "cell_type": "markdown",
   "id": "7ad6dd53",
   "metadata": {},
   "source": [
    "### Exercício 065: Crie um programa que leia vários números inteiros pelo teclado. No final da execução, mostre a média entre todos os valores e qual foi o maior e o menor valores lidos. O programa deve perguntar ao usuário se ele quer ou não continuar a digitar valores."
   ]
  },
  {
   "cell_type": "code",
   "execution_count": null,
   "id": "36546e07",
   "metadata": {
    "collapsed": false
   },
   "outputs": [],
   "source": []
  },
  {
   "cell_type": "markdown",
   "id": "7ebf97f3",
   "metadata": {},
   "source": [
    "### Exercício 066: Crie um programa que leia números inteiros pelo teclado. O programa só vai parar quando o usuário digitar o valor 999, que é a condição de parada. No final, mostre quantos números foram digitados e qual foi a soma entre elas (desconsiderando o flag)."
   ]
  },
  {
   "cell_type": "code",
   "execution_count": null,
   "id": "c277893f",
   "metadata": {
    "collapsed": false
   },
   "outputs": [],
   "source": []
  },
  {
   "cell_type": "markdown",
   "id": "5e2c2ed0",
   "metadata": {},
   "source": [
    "### Exercício 067: Faça um programa que mostre a tabuada de vários números, um de cada vez, para cada valor digitado pelo usuário. O programa será interrompido quando o número solicitado for negativo. "
   ]
  },
  {
   "cell_type": "code",
   "execution_count": null,
   "id": "2c13aded",
   "metadata": {
    "collapsed": false
   },
   "outputs": [],
   "source": []
  },
  {
   "cell_type": "markdown",
   "id": "42515d33",
   "metadata": {},
   "source": [
    "### Exercício 068: Faça um programa que jogue par ou ímpar com o computador. O jogo só será interrompido quando o jogador perder, mostrando o total de vitórias consecutivas que ele conquistou no final do jogo. "
   ]
  },
  {
   "cell_type": "code",
   "execution_count": null,
   "id": "21108eb1",
   "metadata": {
    "collapsed": false
   },
   "outputs": [],
   "source": []
  },
  {
   "cell_type": "markdown",
   "id": "74f84652",
   "metadata": {},
   "source": [
    "### Exercício 069: Crie um programa que leia a idade e o sexo de várias pessoas. A cada pessoa cadastrada, o programa deverá perguntar se o usuário quer ou não continuar. No final, mostre:"
   ]
  },
  {
   "cell_type": "code",
   "execution_count": null,
   "id": "e5b0bfc1",
   "metadata": {
    "collapsed": false
   },
   "outputs": [],
   "source": []
  },
  {
   "cell_type": "markdown",
   "id": "a6edac3b",
   "metadata": {},
   "source": [
    "### Exercício 070: Crie um programa que leia o nome e o preço de vários produtos. O programa deverá perguntar se o usuário vai continuar ou não. No final, mostre:"
   ]
  },
  {
   "cell_type": "code",
   "execution_count": null,
   "id": "43e2ecd6",
   "metadata": {
    "collapsed": false
   },
   "outputs": [],
   "source": []
  },
  {
   "cell_type": "markdown",
   "id": "aba4a4fc",
   "metadata": {},
   "source": [
    "### Exercício 071: Crie um programa que simule o funcionamento de um caixa eletrônico. No início, pergunte ao usuário qual será o valor a ser sacado (número inteiro) e o programa vai informar quantas cédulas de cada valor serão entregues."
   ]
  },
  {
   "cell_type": "code",
   "execution_count": null,
   "id": "6026459a",
   "metadata": {
    "collapsed": false
   },
   "outputs": [],
   "source": []
  },
  {
   "cell_type": "markdown",
   "id": "84a4c9df",
   "metadata": {},
   "source": [
    "## Aula 12"
   ]
  },
  {
   "cell_type": "markdown",
   "id": "ba0e8be7",
   "metadata": {},
   "source": [
    "## Aula 13"
   ]
  },
  {
   "cell_type": "markdown",
   "id": "aa6d4a17",
   "metadata": {},
   "source": [
    "## Aula 14"
   ]
  },
  {
   "cell_type": "markdown",
   "id": "f8ec459b",
   "metadata": {},
   "source": [
    "## Aula 15"
   ]
  }
 ],
 "metadata": {},
 "nbformat": 4,
 "nbformat_minor": 5
}